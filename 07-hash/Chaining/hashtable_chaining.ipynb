{
  "nbformat": 4,
  "nbformat_minor": 0,
  "metadata": {
    "colab": {
      "name": "hashtable_chaining.ipynb",
      "provenance": [],
      "authorship_tag": "ABX9TyOJ5vgm6jwxrrNKfp+cf3SH",
      "include_colab_link": true
    },
    "kernelspec": {
      "display_name": "Python 3",
      "name": "python3"
    },
    "language_info": {
      "name": "python"
    }
  },
  "cells": [
    {
      "cell_type": "markdown",
      "metadata": {
        "id": "view-in-github",
        "colab_type": "text"
      },
      "source": [
        "<a href=\"https://colab.research.google.com/github/iceman67/algorithm/blob/master/hashtable_chaining.ipynb\" target=\"_parent\"><img src=\"https://colab.research.google.com/assets/colab-badge.svg\" alt=\"Open In Colab\"/></a>"
      ]
    },
    {
      "cell_type": "code",
      "metadata": {
        "colab": {
          "background_save": true
        },
        "id": "Ey6wAKf0anMh",
        "outputId": "549eb078-2a2e-4d25-ff17-d1a614f4758b"
      },
      "source": [
        "# Function to display hashtable\n",
        "def display_hash(hashTable):\n",
        "\t\n",
        "\tfor i in range(len(hashTable)):\n",
        "\t\tprint(i, end = \" \")\n",
        "\t\t\n",
        "\t\tfor j in hashTable[i]:\n",
        "\t\t\tprint(\"-->\", end = \" \")\n",
        "\t\t\tprint(j, end = \" \")\n",
        "\t\t\t\n",
        "\t\tprint()\n",
        "\n",
        "# Creating Hashtable as\n",
        "# a nested list.\n",
        "HashTable = [[] for _ in range(10)]\n",
        "\n",
        "# Hashing Function to return\n",
        "# key for every value.\n",
        "def Hashing(keyvalue):\n",
        "\treturn keyvalue % len(HashTable)\n",
        "\n",
        "\n",
        "# Insert Function to add\n",
        "# values to the hash table\n",
        "def insert(Hashtable, keyvalue, value):\n",
        "\t\n",
        "\thash_key = Hashing(keyvalue)\n",
        "\tHashtable[hash_key].append(value)\n",
        "\n",
        "# Driver Code\n",
        "insert(HashTable, 10, 'Allahabad')\n",
        "insert(HashTable, 25, 'Mumbai')\n",
        "insert(HashTable, 20, 'Mathura')\n",
        "insert(HashTable, 9, 'Delhi')\n",
        "insert(HashTable, 21, 'Punjab')\n",
        "insert(HashTable, 21, 'Noida')\n",
        "\n",
        "display_hash (HashTable)\n"
      ],
      "execution_count": null,
      "outputs": [
        {
          "output_type": "stream",
          "text": [
            "0 --> Allahabad --> Mathura \n",
            "1 --> Punjab --> Noida \n",
            "2 \n",
            "3 \n",
            "4 \n",
            "5 --> Mumbai \n",
            "6 \n",
            "7 \n",
            "8 \n",
            "9 --> Delhi \n"
          ],
          "name": "stdout"
        }
      ]
    }
  ]
}