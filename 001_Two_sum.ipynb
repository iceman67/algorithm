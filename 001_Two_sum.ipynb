{
  "nbformat": 4,
  "nbformat_minor": 0,
  "metadata": {
    "colab": {
      "name": "001-Two_sum.ipynb",
      "provenance": [],
      "authorship_tag": "ABX9TyMUML4/xuCpBnoq1XZAWOPy",
      "include_colab_link": true
    },
    "kernelspec": {
      "name": "python3",
      "display_name": "Python 3"
    }
  },
  "cells": [
    {
      "cell_type": "markdown",
      "metadata": {
        "id": "view-in-github",
        "colab_type": "text"
      },
      "source": [
        "<a href=\"https://colab.research.google.com/github/iceman67/algorithm/blob/master/001_Two_sum.ipynb\" target=\"_parent\"><img src=\"https://colab.research.google.com/assets/colab-badge.svg\" alt=\"Open In Colab\"/></a>"
      ]
    },
    {
      "cell_type": "code",
      "metadata": {
        "id": "RLjetwbB0i4M"
      },
      "source": [
        "def twoSum(nums, target):\r\n",
        "   \"\"\"\r\n",
        "   :type nums: List[int]\r\n",
        "   :type target: int\r\n",
        "   :rtype: List[int]\r\n",
        "   \"\"\"\r\n",
        "\r\n",
        "   numToIndex = dict() # maps a number in nums to its index\r\n",
        "\r\n",
        "   for i, num in enumerate(nums):\r\n",
        "     if target - num in numToIndex:\r\n",
        "       return (numToIndex[target - num], i)\r\n",
        "     numToIndex[num] = i\r\n",
        "\r\n",
        "   #assert False  # this question assumes input would have exactly one solution"
      ],
      "execution_count": null,
      "outputs": []
    },
    {
      "cell_type": "code",
      "metadata": {
        "colab": {
          "base_uri": "https://localhost:8080/"
        },
        "id": "ASO-Yj-O0r3C",
        "outputId": "7f0d5a4a-5b89-4fbf-99f3-ced171bfbc14"
      },
      "source": [
        "result, x = twoSum([1,2,3, 4, 5,6 ], 3)\r\n",
        "print (result)\r\n",
        "print (x)"
      ],
      "execution_count": null,
      "outputs": [
        {
          "output_type": "stream",
          "text": [
            "0\n",
            "1\n"
          ],
          "name": "stdout"
        }
      ]
    },
    {
      "cell_type": "code",
      "metadata": {
        "id": "SgwUJsqi06n1"
      },
      "source": [
        "def removeElement(nums, val):\r\n",
        "        \"\"\"\r\n",
        "        :type nums: List[int]\r\n",
        "        :type val: int\r\n",
        "        :rtype: int\r\n",
        "        \"\"\"\r\n",
        "        write = 0\r\n",
        "        result = []\r\n",
        "        for i in range(len(nums)):\r\n",
        "            if nums[i] != val:\r\n",
        "                result.append(nums[i])\r\n",
        "                write += 1\r\n",
        "\r\n",
        "        return result, write"
      ],
      "execution_count": null,
      "outputs": []
    },
    {
      "cell_type": "code",
      "metadata": {
        "colab": {
          "base_uri": "https://localhost:8080/"
        },
        "id": "GB8YblR_4sTj",
        "outputId": "30349e57-f883-4115-dd49-45d570c0bde6"
      },
      "source": [
        "# 두번째 인수의 값을 첫번째 리스트에서 제외한 후 리스트의 수를 반환\r\n",
        "nums = [1,2,3, 3, 4, 5,6 ]\r\n",
        "result = removeElement(nums, 3)\r\n",
        "print (result)\r\n"
      ],
      "execution_count": null,
      "outputs": [
        {
          "output_type": "stream",
          "text": [
            "([1, 2, 4, 5, 6], 5)\n"
          ],
          "name": "stdout"
        }
      ]
    },
    {
      "cell_type": "code",
      "metadata": {
        "id": "9vifnKvC_LFL"
      },
      "source": [
        " def lengthOfLongestSubstring(s):\r\n",
        "        ret = 0\r\n",
        "\r\n",
        "        charToLastIndex = dict()\r\n",
        "        currWindowBegin = 0  # starting at this index, we don't have any repeated char\r\n",
        "\r\n",
        "        for i, c in enumerate(s):\r\n",
        "            if c in charToLastIndex and charToLastIndex[c] >= currWindowBegin:\r\n",
        "                currWindowBegin = charToLastIndex[c] + 1\r\n",
        "\r\n",
        "            ret = max(ret, i + 1 - currWindowBegin)\r\n",
        "\r\n",
        "            charToLastIndex[c] = i\r\n",
        "\r\n",
        "        return ret"
      ],
      "execution_count": null,
      "outputs": []
    },
    {
      "cell_type": "code",
      "metadata": {
        "colab": {
          "base_uri": "https://localhost:8080/"
        },
        "id": "w7ZX1hod_P9I",
        "outputId": "2c92510c-e92c-4427-e91e-7059917424fc"
      },
      "source": [
        "result = lengthOfLongestSubstring('abcabcdabcabcde')\r\n",
        "result"
      ],
      "execution_count": null,
      "outputs": [
        {
          "output_type": "execute_result",
          "data": {
            "text/plain": [
              "5"
            ]
          },
          "metadata": {
            "tags": []
          },
          "execution_count": 70
        }
      ]
    },
    {
      "cell_type": "code",
      "metadata": {
        "id": "k-HiC9I2AEGO"
      },
      "source": [
        "def isValid(s):\r\n",
        "        \"\"\"\r\n",
        "        :type s: str\r\n",
        "        :rtype: bool\r\n",
        "        \"\"\"\r\n",
        "        if len(s)%2 != 0:\r\n",
        "            return False\r\n",
        "\r\n",
        "        stack = []\r\n",
        "        validPairs = ( \"()\", \"[]\", \"{}\" )\r\n",
        "\r\n",
        "        for c in s:\r\n",
        "            if c in \"{[(\":\r\n",
        "                stack.append( c )\r\n",
        "            elif stack and (stack[-1]+c) in validPairs:\r\n",
        "                stack.pop()\r\n",
        "            else:\r\n",
        "                return False\r\n",
        "\r\n",
        "        return not stack"
      ],
      "execution_count": null,
      "outputs": []
    },
    {
      "cell_type": "code",
      "metadata": {
        "colab": {
          "base_uri": "https://localhost:8080/"
        },
        "id": "POW8ihBvAIbR",
        "outputId": "6e497f5e-8b7f-47dd-93c9-790ed157c925"
      },
      "source": [
        "isValid('{()}')"
      ],
      "execution_count": null,
      "outputs": [
        {
          "output_type": "execute_result",
          "data": {
            "text/plain": [
              "True"
            ]
          },
          "metadata": {
            "tags": []
          },
          "execution_count": 76
        }
      ]
    },
    {
      "cell_type": "code",
      "metadata": {
        "id": "V8mH1InABBOB"
      },
      "source": [
        "class LRUCache(object):\r\n",
        "    def __init__(self, capacity):\r\n",
        "        \"\"\"\r\n",
        "        :type capacity: int\r\n",
        "        \"\"\"\r\n",
        "        from collections import deque\r\n",
        "        from collections import Counter\r\n",
        "\r\n",
        "        self.capacity   = capacity\r\n",
        "        self.cache      = dict()\r\n",
        "        self.keyQueue   = deque()   # queue of keys used, left is old, right is new\r\n",
        "        self.keyCounter = Counter() # count how many keys are in keyQueue\r\n",
        "\r\n",
        "    def _shrinkKeyQueue(self):\r\n",
        "        \"\"\"\r\n",
        "        When keyQueue has lots of keys appearing multiple times, we need to go over it and make it concise\r\n",
        "        This is required, just to save space\r\n",
        "        \"\"\"\r\n",
        "        if len(self.keyQueue) > 2 * self.capacity:\r\n",
        "            self.keyCounter.clear()\r\n",
        "\r\n",
        "            from collections import deque\r\n",
        "\r\n",
        "            newKeyQueue = deque()\r\n",
        "            while len(self.keyCounter) < len(self.cache):\r\n",
        "                key = self.keyQueue.pop()\r\n",
        "                if key not in self.keyCounter:\r\n",
        "                    self.keyCounter[key] += 1\r\n",
        "                    newKeyQueue.appendleft(key)\r\n",
        "\r\n",
        "            self.keyQueue.clear()\r\n",
        "            self.keyQueue = newKeyQueue\r\n",
        "\r\n",
        "    def get(self, key):\r\n",
        "        \"\"\"\r\n",
        "        :rtype: int\r\n",
        "        \"\"\"\r\n",
        "        if key in self.cache:\r\n",
        "            self.keyQueue.append(key)\r\n",
        "            self.keyCounter[key] += 1\r\n",
        "\r\n",
        "            self._shrinkKeyQueue() # not absolutely necessary, just to save space\r\n",
        "\r\n",
        "            return self.cache[key]\r\n",
        "        else:\r\n",
        "            return -1\r\n",
        "\r\n",
        "    def set(self, key, value):\r\n",
        "        \"\"\"\r\n",
        "        :type key: int\r\n",
        "        :type value: int\r\n",
        "        :rtype: nothing\r\n",
        "        \"\"\"\r\n",
        "        self.cache[key] = value\r\n",
        "        self.keyQueue.append(key)\r\n",
        "        self.keyCounter[key] += 1\r\n",
        "\r\n",
        "        while len(self.cache) > self.capacity:\r\n",
        "            oldestKey = self.keyQueue.popleft()\r\n",
        "            self.keyCounter[oldestKey] -= 1\r\n",
        "            if self.keyCounter[oldestKey]==0:\r\n",
        "                del self.keyCounter[oldestKey]\r\n",
        "                del self.cache[oldestKey]\r\n",
        "\r\n",
        "        self._shrinkKeyQueue() # not absolutely necessary, just to save space"
      ],
      "execution_count": null,
      "outputs": []
    },
    {
      "cell_type": "code",
      "metadata": {
        "colab": {
          "base_uri": "https://localhost:8080/"
        },
        "id": "YXi-W4QmBIAd",
        "outputId": "c9d44e45-a777-44d2-cb30-fba8c418312b"
      },
      "source": [
        "cache =  LRUCache(2)\r\n",
        "cache.set(1,10)\r\n",
        "cache.set(1,20)\r\n",
        "cache.set(1,30)\r\n",
        "cache.set(1,40)\r\n",
        "cache.set(1,40)\r\n",
        "\r\n",
        "cache.set(2,10)\r\n",
        "cache.set(2,20)\r\n",
        "cache.set(2,50) \r\n",
        "\r\n",
        "cache.set(3,30) \r\n",
        "\r\n",
        "print (cache.get(1))\r\n",
        "print (cache.get(2))\r\n",
        "print (cache.get(1))\r\n",
        "print (cache.get(3))\r\n",
        "\r\n"
      ],
      "execution_count": null,
      "outputs": [
        {
          "output_type": "stream",
          "text": [
            "-1\n",
            "50\n",
            "-1\n",
            "30\n"
          ],
          "name": "stdout"
        }
      ]
    },
    {
      "cell_type": "code",
      "metadata": {
        "id": "IqkRxSI7Bk6S"
      },
      "source": [
        ""
      ],
      "execution_count": null,
      "outputs": []
    }
  ]
}