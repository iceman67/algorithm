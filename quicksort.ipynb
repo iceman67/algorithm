{
  "nbformat": 4,
  "nbformat_minor": 0,
  "metadata": {
    "colab": {
      "private_outputs": true,
      "provenance": [],
      "authorship_tag": "ABX9TyNhfW6mCJk5TNCh5I2XpVxd",
      "include_colab_link": true
    },
    "kernelspec": {
      "name": "python3",
      "display_name": "Python 3"
    },
    "language_info": {
      "name": "python"
    }
  },
  "cells": [
    {
      "cell_type": "markdown",
      "metadata": {
        "id": "view-in-github",
        "colab_type": "text"
      },
      "source": [
        "<a href=\"https://colab.research.google.com/github/iceman67/algorithm/blob/master/quicksort.ipynb\" target=\"_parent\"><img src=\"https://colab.research.google.com/assets/colab-badge.svg\" alt=\"Open In Colab\"/></a>"
      ]
    },
    {
      "cell_type": "markdown",
      "source": [
        "퀵정렬(Quick sort)\n",
        "- 리스트 컴프리핸션을 사용하여 특정 조건의 리스트를 생성함"
      ],
      "metadata": {
        "id": "0a1Rbu143-fJ"
      }
    },
    {
      "cell_type": "code",
      "source": [
        "size = 10\n",
        "pivot = list[len(list)-1]\n",
        "list = [random.randint(1,size) for i in  range(size)]\n",
        "less_pivot = [x for x in list[:len(list)-1] if x < pivot]\n",
        "\n",
        "print (f\"privot = {pivot},  less privot list = {less_pivot}\")"
      ],
      "metadata": {
        "id": "QOEn3cnG4MSh"
      },
      "execution_count": null,
      "outputs": []
    },
    {
      "cell_type": "code",
      "source": [
        "import random\n",
        "\n",
        "def qsort(list):\n",
        "    if list == []:\n",
        "        return []\n",
        "    pivot = list[len(list)-1]\n",
        "    l = qsort([x for x in list[:len(list)-1] if x < pivot])\n",
        "    u = qsort([x for x in list[:len(list)-1] if x >= pivot])\n",
        "    return l + [pivot] + u\n",
        "\n",
        "\n",
        "size = 10\n",
        "array = [random.randint(1,size) for i in  range(size)]\n",
        "\n",
        "print (f\"befor sorting list {array}\")\n",
        "\n",
        "result = qsort (array)\n",
        "\n",
        "print (f\"befor sorting list {result}\")\n"
      ],
      "metadata": {
        "id": "T_7XR97X2k4A"
      },
      "execution_count": null,
      "outputs": []
    }
  ]
}