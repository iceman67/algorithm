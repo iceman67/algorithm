{
  "nbformat": 4,
  "nbformat_minor": 0,
  "metadata": {
    "colab": {
      "private_outputs": true,
      "provenance": [],
      "authorship_tag": "ABX9TyPndj5rrhJpaCvhxt0jO9I6",
      "include_colab_link": true
    },
    "kernelspec": {
      "name": "python3",
      "display_name": "Python 3"
    },
    "language_info": {
      "name": "python"
    }
  },
  "cells": [
    {
      "cell_type": "markdown",
      "metadata": {
        "id": "view-in-github",
        "colab_type": "text"
      },
      "source": [
        "<a href=\"https://colab.research.google.com/github/iceman67/algorithm/blob/master/time_complexity.ipynb\" target=\"_parent\"><img src=\"https://colab.research.google.com/assets/colab-badge.svg\" alt=\"Open In Colab\"/></a>"
      ]
    },
    {
      "cell_type": "code",
      "source": [
        "import time\n",
        "\n",
        "def sum_n (n):\n",
        "    sum = 0\n",
        "    for i in range(n):\n",
        "        sum += i\n",
        "\n",
        "\n",
        "n = 1000\n",
        "start = time.time()\n",
        "sum_n(n)\n",
        "end = time.time()\n",
        "\n",
        "print (f\"sum of {n}, elapsed time = {end - start}\")\n",
        "\n",
        "n = 10000\n",
        "start = time.time()\n",
        "sum_n(n)\n",
        "end = time.time()\n",
        "print (f\" sum of {n}, elapsed time = {end - start}\")\n",
        "\n",
        "n = 100000\n",
        "start = time.time()\n",
        "sum_n(n)\n",
        "end = time.time()\n",
        "\n",
        "print (f\"sum of {n}, elapsed time = {end - start}\")\n"
      ],
      "metadata": {
        "id": "abvfNQzPD-8T"
      },
      "execution_count": null,
      "outputs": []
    },
    {
      "cell_type": "code",
      "source": [
        "# constant time\n",
        "import random\n",
        "import timeit\n",
        "\n",
        "def first_value (n):\n",
        "    return n[0]\n",
        "\n",
        "def init(size):\n",
        "    lst = [random.randint(0, x) for x in range(size)]\n",
        "    return lst\n",
        "\n",
        "print(timeit.timeit(\"first_value(lst)\", setup=\"from __main__ import first_value, init; size = 10; lst = init(size); \"))\n",
        "print(timeit.timeit(\"first_value(lst)\", setup=\"from __main__ import first_value, init; size = 10000; lst = init(size); \"))\n",
        "print(timeit.timeit(\"first_value(lst)\", setup=\"from __main__ import first_value, init; size = 100000; lst = init(size); \"))"
      ],
      "metadata": {
        "id": "47QMo2pnms5J"
      },
      "execution_count": null,
      "outputs": []
    },
    {
      "cell_type": "code",
      "execution_count": null,
      "metadata": {
        "id": "9FbjDdVAl5B2"
      },
      "outputs": [],
      "source": [
        "# linear time\n",
        "import timeit\n",
        "\n",
        "def sum_n (n):\n",
        "    sum = 0\n",
        "    for i in range(n):\n",
        "        sum += i\n",
        "\n",
        "print(timeit.timeit(\"sum_n(n)\", setup=\"from __main__ import sum_n; n = 10\"))\n",
        "print(timeit.timeit(\"sum_n(n)\", setup=\"from __main__ import sum_n; n = 100\"))"
      ]
    },
    {
      "cell_type": "code",
      "source": [
        "# linear time\n",
        "\n",
        "def linear_search(element,some_list):\n",
        "    i = 0\n",
        "    n = len(some_list) # O(1)\n",
        "    while i < n : # O(1) x 반복횟수(n) => O(n)\n",
        "       if some_list[i] == element :\n",
        "         return i\n",
        "    i += 1\n",
        "    return -1 # O(1)\n",
        "\n"
      ],
      "metadata": {
        "id": "zAq9mdWruUUH"
      },
      "execution_count": null,
      "outputs": []
    },
    {
      "cell_type": "code",
      "source": [
        "# linear time\n",
        "import timeit\n",
        "\n",
        "def sum_n (n):\n",
        "    sum = 0\n",
        "    for i in range(n):\n",
        "        sum += i\n",
        "\n",
        "print(timeit.timeit(\"sum_n(n)\", setup=\"from __main__ import sum_n; n = 10\"))\n",
        "print(timeit.timeit(\"sum_n(n)\", setup=\"from __main__ import sum_n; n = 100\"))"
      ],
      "metadata": {
        "id": "Hu3PY8xtuCCj"
      },
      "execution_count": null,
      "outputs": []
    },
    {
      "cell_type": "code",
      "source": [
        "# quadratic time\n",
        "import timeit\n",
        "\n",
        "def init(size):\n",
        "    lst = [x for x in range(size)]\n",
        "    return lst\n",
        "\n",
        "def matrix_sum(li):\n",
        "    sum = 0\n",
        "    for n in range(0, len(li)):\n",
        "        for m in range(0, n):\n",
        "            sum += (li[n] * li[m])\n",
        "\n",
        "\n",
        "print(timeit.timeit(\"matrix_sum(lst)\", setup=\"from __main__ import matrix_sum, init; size = 5; lst = init(size); \", number =10))\n",
        "print(timeit.timeit(\"matrix_sum(lst)\", setup=\"from __main__ import matrix_sum, init; size = 50; lst = init(size); \", number =10))\n",
        "print(timeit.timeit(\"matrix_sum(lst)\", setup=\"from __main__ import matrix_sum, init; size = 500; lst = init(size); \", number =10))\n",
        "print(timeit.timeit(\"matrix_sum(lst)\", setup=\"from __main__ import matrix_sum, init; size = 5000; lst = init(size); \", number =10))"
      ],
      "metadata": {
        "id": "OloaATx1u-ad"
      },
      "execution_count": null,
      "outputs": []
    },
    {
      "cell_type": "markdown",
      "source": [
        "### 두개의 GCD 알고리즘"
      ],
      "metadata": {
        "id": "ipZwMhy3t0XD"
      }
    },
    {
      "cell_type": "code",
      "source": [
        "import timeit\n",
        "\n",
        "def gcd_sub(a, b):\n",
        "\n",
        "    while a != 0 and b != 0:\n",
        "        if a > b:\n",
        "            a = a - b\n",
        "        else:\n",
        "            b = b - a\n",
        "    if a == 0:\n",
        "        return b\n",
        "    if b == 0:\n",
        "        return a\n",
        "\n",
        "print(timeit.timeit(\"gcd_sub(a, b)\", setup=\"from __main__ import gcd_sub; a, b = 100, 2\"))\n",
        "\n"
      ],
      "metadata": {
        "id": "diuE3EFxrbfp"
      },
      "execution_count": null,
      "outputs": []
    },
    {
      "cell_type": "code",
      "source": [
        "import timeit\n",
        "\n",
        "def gcd_sub(a, b):\n",
        "\n",
        "    while a != 0 and b != 0:\n",
        "        if a > b:\n",
        "            a = a % b\n",
        "        else:\n",
        "            b = b % a\n",
        "    if a == 0:\n",
        "        return b\n",
        "    if b == 0:\n",
        "        return a\n",
        "\n",
        "print(timeit.timeit(\"gcd_sub(a, b)\", setup=\"from __main__ import gcd_sub; a, b = 100, 2\"))\n",
        "\n"
      ],
      "metadata": {
        "id": "OKfQYHYktYQC"
      },
      "execution_count": null,
      "outputs": []
    }
  ]
}