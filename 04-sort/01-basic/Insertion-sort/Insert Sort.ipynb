{
 "cells": [
  {
   "cell_type": "markdown",
   "metadata": {},
   "source": [
    "#### 삽입정렬\n",
    " * 손안의 카드를 정렬하는 방법과 유사하다\n",
    " * 새로운 카드를 기존의 정렬된 카드 사이의 올바른 자리를 찾아 삽입한다\n",
    " * 새로 삽입될 카드의 수만큼 반복하게 되면 전체 카드가 정렬된다.\n",
    " * 자료 배열의 모든 요소를 앞에서부터 차례대로 이미 정렬된 배열 부분과 비교 하여, 자신의 위치를 찾아 삽입함으로써 정렬을 완성하는 알고리즘\n",
    " * 매 순서마다 해당 원소를 삽입할 수 있는 위치를 찾아 해당 위치에 넣는다\n",
    " \n",
    "####  삽입정렬 동작\n",
    "  * 삽입 정렬은 두 번째 자료부터 시작하여 그 앞(왼쪽)의 자료들과 비교하여 삽입할 위치를 지정한 후 자료를 뒤로 옮기고 지정한 자리에 자료를 삽입하여 정렬하는 알고리즘\n",
    "  * 즉, 두 번째 자료는 첫 번째 자료, 세 번째 자료는 두 번째와 첫 번째 자료, 네 번째 자료는 세 번째, 두 번째, 첫 번째 자료와 비교한 후 자료가 삽입될 위치를 찾는다. 자료가 삽입될 위치를 찾았다면 그 위치에 자료를 삽입하기 위해 자료를 한 칸씩 뒤로 이동시킴\n",
    "  * 처음 Key 값은 두 번째 자료부터 시작한다.\n",
    " \n",
    "[참고] https://gmlwjd9405.github.io/2018/05/06/algorithm-insertion-sort.html\n",
    "\n",
    "#### 성능특징\n",
    " ##### 장점\n",
    "  * 안정한 정렬 방법\n",
    "  * 레코드의 수가 적을 경우 알고리즘 자체가 매우 간단하므로 다른 복잡한 정렬 방법보다 유리할 수 있음\n",
    "  * 대부분위 레코드가 이미 정렬되어 있는 경우에 매우 효율적일 수 있음\n",
    "  \n",
    "#### 단점\n",
    "  * 비교적 많은 레코드들의 이동을 포함함\n",
    "  * 레코드 수가 많고 레코드 크기가 클 경우에 적합하지 않음  \n",
    "  \n",
    "##### 변수가 정렬되지 않은 상태로 있을 때 보통 O($n^2$)의 계산 복잡도를 가집"
   ]
  },
  {
   "cell_type": "code",
   "execution_count": 29,
   "metadata": {},
   "outputs": [],
   "source": [
    "def insert_sort(array=[5,4,3,2,1]):\n",
    "    n = len(array)  #  배열길이\n",
    "    \n",
    "    for i in range(1, n): \n",
    "        # 1(2번쨰원소)부터 n-1(마지막원소)까지 # i번 위치의 값을 key로 저장 \n",
    "        newValue = array[i] # 3\n",
    "        # 리스트의 j번 위치에 있는 값과 key를 비교해 key가 삽입될 적절한 위치를 찾음 \n",
    "        j = i\n",
    "        while j > 0 and array[j-1] > newValue: \n",
    "            array[j] = array[j-1] #  3 4  5\n",
    "            j = j - 1 \n",
    "        array[j] = newValue # 찾은 삽입 위치에 key를 저장  1 2 3 4  5 "
   ]
  },
  {
   "cell_type": "code",
   "execution_count": 30,
   "metadata": {},
   "outputs": [
    {
     "name": "stdout",
     "output_type": "stream",
     "text": [
      "[1, 2, 3, 4, 5]\n"
     ]
    }
   ],
   "source": [
    "array = [5,4,3,2,1] \n",
    "insert_sort(array) \n",
    "print(array)"
   ]
  },
  {
   "cell_type": "code",
   "execution_count": 6,
   "metadata": {},
   "outputs": [
    {
     "name": "stdout",
     "output_type": "stream",
     "text": [
      "1.44 µs ± 19.8 ns per loop (mean ± std. dev. of 7 runs, 1000000 loops each)\n",
      "[1, 2, 3, 4, 5]\n"
     ]
    }
   ],
   "source": [
    "d = [5,4,3,2,1] \n",
    "%timeit insert_sort(d) \n",
    "print(d)"
   ]
  },
  {
   "cell_type": "code",
   "execution_count": 16,
   "metadata": {},
   "outputs": [
    {
     "name": "stdout",
     "output_type": "stream",
     "text": [
      "477 ns ± 11 ns per loop (mean ± std. dev. of 7 runs, 1000000 loops each)\n"
     ]
    }
   ],
   "source": [
    "n = 100000\n",
    "d = [x for x in range(n,1)]\n",
    "%timeit ins_sort(d) "
   ]
  },
  {
   "cell_type": "code",
   "execution_count": 17,
   "metadata": {},
   "outputs": [
    {
     "name": "stdout",
     "output_type": "stream",
     "text": [
      "28.4 ms ± 858 µs per loop (mean ± std. dev. of 7 runs, 10 loops each)\n"
     ]
    }
   ],
   "source": [
    "n = 100000\n",
    "d = [x for x in range(1,n)]\n",
    "%timeit ins_sort(d) "
   ]
  },
  {
   "cell_type": "code",
   "execution_count": null,
   "metadata": {},
   "outputs": [],
   "source": []
  }
 ],
 "metadata": {
  "kernelspec": {
   "display_name": "Python 3",
   "language": "python",
   "name": "python3"
  },
  "language_info": {
   "codemirror_mode": {
    "name": "ipython",
    "version": 3
   },
   "file_extension": ".py",
   "mimetype": "text/x-python",
   "name": "python",
   "nbconvert_exporter": "python",
   "pygments_lexer": "ipython3",
   "version": "3.7.4"
  }
 },
 "nbformat": 4,
 "nbformat_minor": 2
}
