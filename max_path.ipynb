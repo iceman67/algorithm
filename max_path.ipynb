{
  "nbformat": 4,
  "nbformat_minor": 0,
  "metadata": {
    "colab": {
      "private_outputs": true,
      "provenance": [],
      "authorship_tag": "ABX9TyPpeFwsapM4q4jODDsErpdF",
      "include_colab_link": true
    },
    "kernelspec": {
      "name": "python3",
      "display_name": "Python 3"
    },
    "language_info": {
      "name": "python"
    }
  },
  "cells": [
    {
      "cell_type": "markdown",
      "metadata": {
        "id": "view-in-github",
        "colab_type": "text"
      },
      "source": [
        "<a href=\"https://colab.research.google.com/github/iceman67/algorithm/blob/master/max_path.ipynb\" target=\"_parent\"><img src=\"https://colab.research.google.com/assets/colab-badge.svg\" alt=\"Open In Colab\"/></a>"
      ]
    },
    {
      "cell_type": "code",
      "source": [
        "# Python3 program for the above approach\n",
        "\n",
        "# Function to find the maximum sum\n",
        "# path in the grid\n",
        "def MaximumPath(grid):\n",
        "\t# Dimensions of grid[][]\n",
        "    N = len(grid)\n",
        "    M = len(grid[0])\n",
        "    print (f\"N = {N}, M = {M}\")\n",
        "\n",
        "\t# Stores maximum sum at each cell\n",
        "\t# sum[i][j] from cell sum[0][0]\n",
        "    sum = [[0 for i in range(M + 1)]\n",
        "\t\t\tfor i in range(N + 1)]\n",
        "\n",
        "\t# Iterate to compute the maximum\n",
        "\t# sum path in the grid\n",
        "    for i in range(1, N + 1):\n",
        "        for j in range(1, M + 1):\n",
        "\t\t\t# Update the maximum path sum\n",
        "            sum[i][j] = (max(sum[i - 1][j],\n",
        "\t\t\t\t\t\t\tsum[i][j - 1]) +\n",
        "\t\t\t\t\t\tgrid[i - 1][j - 1])\n",
        "\n",
        "\t# Return the maximum sum\n",
        "    return sum[N][M]\n",
        "\n",
        "# Driver Code\n",
        "if __name__ == '__main__':\n",
        "\n",
        "\tgrid = [ [ 1, 2, 4 ],\n",
        "             [ 3, 5, 9 ] ]\n",
        "\n",
        "\tprint(MaximumPath(grid))\n",
        "\n",
        "# This code is contributed by mohit kumar 29\n"
      ],
      "metadata": {
        "id": "esOHKthNIfcN"
      },
      "execution_count": null,
      "outputs": []
    }
  ]
}