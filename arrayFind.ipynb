{
  "nbformat": 4,
  "nbformat_minor": 0,
  "metadata": {
    "colab": {
      "name": "arrayFind.ipynb",
      "provenance": [],
      "collapsed_sections": [],
      "authorship_tag": "ABX9TyPx/Sm9GUJWsFvzOdAZkunC",
      "include_colab_link": true
    },
    "kernelspec": {
      "name": "python3",
      "display_name": "Python 3"
    }
  },
  "cells": [
    {
      "cell_type": "markdown",
      "metadata": {
        "id": "view-in-github",
        "colab_type": "text"
      },
      "source": [
        "<a href=\"https://colab.research.google.com/github/iceman67/algorithm/blob/master/arrayFind.ipynb\" target=\"_parent\"><img src=\"https://colab.research.google.com/assets/colab-badge.svg\" alt=\"Open In Colab\"/></a>"
      ]
    },
    {
      "cell_type": "markdown",
      "metadata": {
        "id": "fbJWSZIgrGFw"
      },
      "source": [
        "**선형 검색 (linear search)**\n",
        "* 정렬되지 않은 리스트에서 특정 원소를 찾음\n",
        "* 배열의 모든 항목을 검사해서 원하는 값이 있는지 검색함 "
      ]
    },
    {
      "cell_type": "code",
      "metadata": {
        "id": "lJuiyiTMqnnW"
      },
      "source": [
        "# 배열(=array)안에 찾고자 하는 특정 항목(=value)이 있으면 그 index값을 return, 없다면 -1을 return\n",
        "def linear_search(value, array):\n",
        "    for i, item in enumerate(array):\n",
        "        if item == value:\n",
        "            return i\n",
        "    return -1"
      ],
      "execution_count": null,
      "outputs": []
    },
    {
      "cell_type": "code",
      "metadata": {
        "colab": {
          "base_uri": "https://localhost:8080/"
        },
        "id": "FHf0svf9q5NK",
        "outputId": "cfa7a08c-53f0-4d69-9da7-8bc8de5e59de"
      },
      "source": [
        "value = 1\n",
        "array = [5,4,3,2,1,0]\n",
        "\n",
        "linear_search(value, array)"
      ],
      "execution_count": null,
      "outputs": [
        {
          "output_type": "execute_result",
          "data": {
            "text/plain": [
              "4"
            ]
          },
          "metadata": {
            "tags": []
          },
          "execution_count": 2
        }
      ]
    },
    {
      "cell_type": "code",
      "metadata": {
        "colab": {
          "base_uri": "https://localhost:8080/"
        },
        "id": "YAESebvpsJkn",
        "outputId": "4df59f0c-1820-4823-c2f0-9cc706e012c6"
      },
      "source": [
        "value = 10\n",
        "linear_search(value, array)"
      ],
      "execution_count": null,
      "outputs": [
        {
          "output_type": "execute_result",
          "data": {
            "text/plain": [
              "-1"
            ]
          },
          "metadata": {
            "tags": []
          },
          "execution_count": 3
        }
      ]
    },
    {
      "cell_type": "markdown",
      "metadata": {
        "id": "vmxihIderlYu"
      },
      "source": [
        "**성능분석**\n",
        "\n",
        "* 선형 탐색은 최악의 경우 $O(n)$의 시간 복잡도를 가짐\n",
        "* 특정 항목이 끝에 위치해 있거나, 배열에 존재하지 않을 경우 모든 항목을 다 검사해야 함"
      ]
    }
  ]
}