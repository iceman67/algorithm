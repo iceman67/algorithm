{
  "nbformat": 4,
  "nbformat_minor": 0,
  "metadata": {
    "colab": {
      "name": "arrayFind.ipynb",
      "provenance": [],
      "collapsed_sections": [],
      "authorship_tag": "ABX9TyM+AoM9E+prbk4u0MIP245w",
      "include_colab_link": true
    },
    "kernelspec": {
      "name": "python3",
      "display_name": "Python 3"
    }
  },
  "cells": [
    {
      "cell_type": "markdown",
      "metadata": {
        "id": "view-in-github",
        "colab_type": "text"
      },
      "source": [
        "<a href=\"https://colab.research.google.com/github/iceman67/algorithm/blob/master/arrayFind.ipynb\" target=\"_parent\"><img src=\"https://colab.research.google.com/assets/colab-badge.svg\" alt=\"Open In Colab\"/></a>"
      ]
    },
    {
      "cell_type": "markdown",
      "metadata": {
        "id": "fbJWSZIgrGFw"
      },
      "source": [
        "**선형 검색 (linear search)**\n",
        "* 정렬되지 않은 리스트에서 특정 원소를 찾음\n",
        "* 배열의 모든 항목을 검사해서 원하는 값이 있는지 검색함 "
      ]
    },
    {
      "cell_type": "code",
      "metadata": {
        "id": "lJuiyiTMqnnW"
      },
      "source": [
        "# 배열(=array)안에 찾고자 하는 특정 항목(=value)이 있으면 그 index값을 return, 없다면 -1을 return\n",
        "def arrayFind(array, target):\n",
        "    for i, item in enumerate(array):\n",
        "        if item == target:\n",
        "            return i\n",
        "    return -1"
      ],
      "execution_count": 1,
      "outputs": []
    },
    {
      "cell_type": "code",
      "metadata": {
        "colab": {
          "base_uri": "https://localhost:8080/"
        },
        "id": "FHf0svf9q5NK",
        "outputId": "b843622b-199b-46f6-f070-712681be1703"
      },
      "source": [
        "value = 1\n",
        "array = [5,4,3,2,1,0]\n",
        "\n",
        "arrayFind(array, value)"
      ],
      "execution_count": 3,
      "outputs": [
        {
          "output_type": "execute_result",
          "data": {
            "text/plain": [
              "4"
            ]
          },
          "metadata": {},
          "execution_count": 3
        }
      ]
    },
    {
      "cell_type": "code",
      "metadata": {
        "colab": {
          "base_uri": "https://localhost:8080/"
        },
        "id": "YAESebvpsJkn",
        "outputId": "78d64b77-7609-4cc6-c5fa-6fe379adfb77"
      },
      "source": [
        "value = 10\n",
        "arrayFind(array,value)"
      ],
      "execution_count": 4,
      "outputs": [
        {
          "output_type": "execute_result",
          "data": {
            "text/plain": [
              "-1"
            ]
          },
          "metadata": {},
          "execution_count": 4
        }
      ]
    },
    {
      "cell_type": "markdown",
      "metadata": {
        "id": "vmxihIderlYu"
      },
      "source": [
        "**성능분석**\n",
        "\n",
        "* 선형 탐색은 최악의 경우 $O(n)$의 시간 복잡도를 가짐\n",
        "* 특정 항목이 끝에 위치해 있거나, 배열에 존재하지 않을 경우 모든 항목을 다 검사해야 함"
      ]
    }
  ]
}