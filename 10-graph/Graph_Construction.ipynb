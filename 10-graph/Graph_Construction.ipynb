{
  "nbformat": 4,
  "nbformat_minor": 0,
  "metadata": {
    "colab": {
      "name": "Graph-Construction.ipynb",
      "provenance": [],
      "collapsed_sections": [],
      "authorship_tag": "ABX9TyNYOJ8PSODRph/MEEagUq1D",
      "include_colab_link": true
    },
    "kernelspec": {
      "name": "python3",
      "display_name": "Python 3"
    }
  },
  "cells": [
    {
      "cell_type": "markdown",
      "metadata": {
        "id": "view-in-github",
        "colab_type": "text"
      },
      "source": [
        "<a href=\"https://colab.research.google.com/github/iceman67/algorithm/blob/master/Graph_Construction.ipynb\" target=\"_parent\"><img src=\"https://colab.research.google.com/assets/colab-badge.svg\" alt=\"Open In Colab\"/></a>"
      ]
    },
    {
      "cell_type": "markdown",
      "metadata": {
        "id": "8QGVqygb5nz0"
      },
      "source": [
        "클래스 Graph는 **방향그래프(directed graph)** 를 인접리스트로 표현한것임  \n",
        " "
      ]
    },
    {
      "cell_type": "code",
      "metadata": {
        "id": "HlD1dlbodhRL"
      },
      "source": [
        "from collections import defaultdict\n",
        "\n",
        "class Graph:\n",
        "\t# Constructor\n",
        "\tdef __init__(self):\n",
        "\t\t# default dictionary to store graph\n",
        "\t\tself.graph = defaultdict(list)\n",
        "  \n",
        "\tdef printGraph(self):\n",
        "\t\tprint (self.graph)\n",
        "\t\tfor i in self.graph.keys():\n",
        "\t\t\tprint(i,' -> ', ' -> '.join([str(j) for j in self.graph[i]]))\t\t\t\n",
        "\n",
        "\t# function to add an edge to graph\n",
        "\tdef addEdge(self, u, v):\n",
        "\t\tself.graph[u].append(v)\n",
        "    \n",
        "\t# A function used by DFS\n",
        "\tdef DFSRec(self, v, visited):\n",
        "\t\t# Mark the current node as visited\n",
        "\t\t# and print it\n",
        "\t\tvisited.add(v)\n",
        "\t\tprint(v, end=' ')\n",
        "\n",
        "\t\t# Recur for all the vertices\n",
        "\t\t# adjacent to this vertex\n",
        "\t\tfor neighbour in self.graph[v]:\n",
        "\t\t\tif neighbour not in visited:\n",
        "\t\t\t\tprint (f\"\\n** {v}\\'s neighour {neighbour} is visisted all\")\n",
        "\t\t\t\tself.DFSRec(neighbour, visited)\n",
        "\t\t\n",
        "\n",
        "\t# The function to do DFS traversal. It uses\n",
        "\t# recursive DFSRec()\n",
        "\tdef DFS(self, v):\n",
        "\t\t# Create a set to store visited vertices\n",
        "\t\tvisited = set()\n",
        "\n",
        "\t\t# Call the recursive helper function\n",
        "\t\t# to print DFS traversal\n",
        "\t\tself.DFSRec(v, visited)"
      ],
      "execution_count": 1,
      "outputs": []
    },
    {
      "cell_type": "code",
      "metadata": {
        "colab": {
          "base_uri": "https://localhost:8080/"
        },
        "id": "3rPcjnh5d011",
        "outputId": "319313a7-52b7-455c-e94c-2b3ee713e5db"
      },
      "source": [
        "# Driver code\n",
        "if __name__ == '__main__':\n",
        "   # Create a graph given\n",
        "   # in the above diagram\n",
        "   g = Graph() \n",
        "   g.addEdge(0, 1)\n",
        "   g.addEdge(0, 2)\n",
        "   g.addEdge(1, 2)\n",
        "   g.addEdge(2, 0)\n",
        "   g.addEdge(2, 3)\n",
        "   g.addEdge(3, 3)\n",
        "   \n",
        "   g.printGraph()\n",
        "   \n",
        "# This code is contributed by Neelam Yadav"
      ],
      "execution_count": 2,
      "outputs": [
        {
          "output_type": "stream",
          "text": [
            "defaultdict(<class 'list'>, {0: [1, 2], 1: [2], 2: [0, 3], 3: [3]})\n",
            "0  ->  1 -> 2\n",
            "1  ->  2\n",
            "2  ->  0 -> 3\n",
            "3  ->  3\n"
          ],
          "name": "stdout"
        }
      ]
    }
  ]
}