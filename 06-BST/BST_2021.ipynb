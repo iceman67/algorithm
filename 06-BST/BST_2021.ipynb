{
  "nbformat": 4,
  "nbformat_minor": 0,
  "metadata": {
    "colab": {
      "name": "BST_2021.ipynb",
      "provenance": [],
      "authorship_tag": "ABX9TyPUri43MA189Ts8QBsQOAn4",
      "include_colab_link": true
    },
    "kernelspec": {
      "name": "python3",
      "display_name": "Python 3"
    },
    "language_info": {
      "name": "python"
    }
  },
  "cells": [
    {
      "cell_type": "markdown",
      "metadata": {
        "id": "view-in-github",
        "colab_type": "text"
      },
      "source": [
        "<a href=\"https://colab.research.google.com/github/iceman67/algorithm/blob/master/BST_2021.ipynb\" target=\"_parent\"><img src=\"https://colab.research.google.com/assets/colab-badge.svg\" alt=\"Open In Colab\"/></a>"
      ]
    },
    {
      "cell_type": "markdown",
      "metadata": {
        "id": "mcEVu6Qx3ojn"
      },
      "source": [
        "#### 이진 검색트리\n",
        "\n",
        "\n",
        "1.   각 노드는 키르 하나씩 갖으며, 키 값은 모두 달라야 함\n",
        "2.   최상위 레벨의 루트 노드가 있고, 각 노드는 최대 두개의 자식 노드를 가짐\n",
        "3.   임의의 노드의 키값은 자신의 왼쪽에 있는 모든 노드의 키값보다 크고, 오른쪽에 있는 모든 노드의 값 보다 작다\n",
        "\n",
        "---\n",
        "\n",
        "이진트리 연산 동작\n",
        "\n",
        "* [이진검색트리 검색](https://blog.penjee.com/wp-content/uploads/2015/11/binary-search-tree-sorted-array-animation.gif)\n",
        "* [이진검색트리 삽입](https://blog.penjee.com/wp-content/uploads/2015/11/binary-search-tree-insertion-animation.gif)\n",
        "\n",
        "\n",
        "---\n",
        "이진검색 트리 성능 이슈\n",
        "\n",
        "* $n$ 개의 원소로 이진 검색 트리를 만들떄 가장 이상적으로 균형이 잡히면 최악의 경우라 하더라고 검색 시간은 $\\theta$(long(n) 임 \n",
        "\n",
        "* 가장 나쁘게 기울면 평균 검색시간이  $\\theta$(n) 임 \n",
        "\n",
        "* 가능한 모든 삽입 순성에 따른 이진검색트리의 평균 검색 시간은  **빈칸** 임\n",
        "\n",
        "\n",
        "\n"
      ]
    },
    {
      "cell_type": "code",
      "metadata": {
        "id": "1EfKWqW_2ppB"
      },
      "source": [
        "class Node(object):\n",
        "    def __init__(self, data):\n",
        "        self.data = data\n",
        "        self.left = self.right = None"
      ],
      "execution_count": 1,
      "outputs": []
    },
    {
      "cell_type": "markdown",
      "metadata": {
        "id": "IiKm6jjh498o"
      },
      "source": [
        "이진 검색트리는 재귀적으로 검색(find)과 삽입(insert)이 운영됨\n",
        "\n",
        "find() 호출시 재귀호출 수행 \n",
        "> _find_value(self, root, key)\n",
        "\n",
        "insert() 호출시 재귀호출 수행 \n",
        ">  _insert_value(self, node, data)\n",
        "\n",
        "\n",
        "최대값을 갖는 max() 함수를 추가하시오"
      ]
    },
    {
      "cell_type": "code",
      "metadata": {
        "id": "389tCPIN2zOC"
      },
      "source": [
        "class BinarySearchTree(object):\n",
        "    def __init__(self):\n",
        "        self.root = None\n",
        "\n",
        "    def insert(self, data):\n",
        "        self.root = self._insert_value(self.root, data)\n",
        "        return self.root is not None\n",
        "\n",
        "    def _insert_value(self, node, data):\n",
        "        if node is None:\n",
        "            node = Node(data)\n",
        "        else:\n",
        "            if data <= node.data:\n",
        "                node.left = self._insert_value(node.left, data)\n",
        "            else:\n",
        "                node.right = self._insert_value(node.right, data)\n",
        "        return node\n",
        "\n",
        "    def find(self, key):\n",
        "        return self._find_value(self.root, key)\n",
        "\n",
        "    def _find_value(self, root, key):\n",
        "        if root is None or root.data == key:\n",
        "            return root is not None\n",
        "        elif key < root.data:\n",
        "            return self._find_value(root.left, key)\n",
        "        else:\n",
        "            return self._find_value(root.right, key)\n",
        "\n",
        "    def max (self):\n",
        "        return self._max_value(self.root)\n",
        "\n",
        "    def _max_value(self, root):\n",
        "        if root.right is None:\n",
        "            return root.data\n",
        "        else:\n",
        "            return self._max_value(root.right)\n",
        "\n",
        "    def delete(self, key):\n",
        "        self.root, deleted = self._delete_value(self.root, key)\n",
        "        return deleted\n",
        "\n",
        "    def _delete_value(self, node, key):\n",
        "        if node is None:\n",
        "            return node, False\n",
        "\n",
        "        deleted = False\n",
        "        if key == node.data:\n",
        "            deleted = True\n",
        "            if node.left and node.right:\n",
        "                # replace the node to the leftmost of node.right\n",
        "                parent, child = node, node.right\n",
        "                while child.left is not None:\n",
        "                    parent, child = child, child.left\n",
        "                child.left = node.left\n",
        "                if parent != node:\n",
        "                    parent.left = child.right\n",
        "                    child.right = node.right\n",
        "                node = child\n",
        "            elif node.left or node.right:\n",
        "                node = node.left or node.right\n",
        "            else:\n",
        "                node = None\n",
        "        elif key < node.data:\n",
        "            node.left, deleted = self._delete_value(node.left, key)\n",
        "        else:\n",
        "            node.right, deleted = self._delete_value(node.right, key)\n",
        "        return node, deleted"
      ],
      "execution_count": 11,
      "outputs": []
    },
    {
      "cell_type": "markdown",
      "metadata": {
        "id": "L5jkPzTB679u"
      },
      "source": [
        "* 자료 array 를 이진검색 트리에 삽입하고 트리 bst를 전달받음\n",
        "* bst에서 15 와 17을 검색함 \n",
        "* bast에서 55, 14, 11을 삭제함\n"
      ]
    },
    {
      "cell_type": "code",
      "metadata": {
        "colab": {
          "base_uri": "https://localhost:8080/"
        },
        "id": "VRMfJRpF26Ii",
        "outputId": "9f7cb377-fd07-4e79-80f0-281317abdbc3"
      },
      "source": [
        "array = [40, 4, 34, 45, 14, 55, 48, 13, 15, 49, 47]\n",
        "\n",
        "if __name__ == '__main__':\n",
        "    bst = BinarySearchTree()\n",
        "    for x in array:\n",
        "        bst.insert(x)\n",
        "\n",
        "    print(f'maximum value of BST = {bst.max()}')\n",
        "    # Find\n",
        "    print(bst.find(15))  # True\n",
        "    print(bst.find(17))  # False\n",
        "\n",
        "    # Delete\n",
        "    print(bst.delete(55))  # True\n",
        "    print(bst.delete(14))  # True\n",
        "    print(bst.delete(11))  # False"
      ],
      "execution_count": 13,
      "outputs": [
        {
          "output_type": "stream",
          "text": [
            "maximum value of BST = 55\n",
            "True\n",
            "False\n",
            "True\n",
            "True\n",
            "False\n"
          ],
          "name": "stdout"
        }
      ]
    },
    {
      "cell_type": "markdown",
      "metadata": {
        "id": "JfnV8nYI7pMf"
      },
      "source": [
        " 삭제된 key 55 이 검색을 수행함"
      ]
    },
    {
      "cell_type": "code",
      "metadata": {
        "colab": {
          "base_uri": "https://localhost:8080/"
        },
        "id": "qvdeEtbF7Z_u",
        "outputId": "bcbc4c08-cd7f-4542-fef7-576308fd62d3"
      },
      "source": [
        "    print(bst.find(55))  # False\n"
      ],
      "execution_count": 14,
      "outputs": [
        {
          "output_type": "stream",
          "text": [
            "False\n"
          ],
          "name": "stdout"
        }
      ]
    }
  ]
}