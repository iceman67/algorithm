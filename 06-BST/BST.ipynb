{
 "cells": [
  {
   "cell_type": "markdown",
   "metadata": {},
   "source": [
    "#### A Binary Search Tree (BST) gives you two choices: \n",
    "* left or right, less than or greater than, 0 or 1 — hence the name, binary.\n",
    "\n",
    "#### Binary Search Tree is a node-based binary tree data structure which has the following properties:\n",
    "* The **left subtree** of a node contains only nodes with keys lesser than the node’s key.\n",
    "* The **right subtree** of a node contains only nodes with keys greater than the node’s key.\n",
    "* The left and right subtree each must also be a binary search tree.\n",
    "\n",
    "\n",
    "[REF] https://medium.com/@stephenagrice/how-to-implement-a-binary-search-tree-in-python-e1cdba29c533"
   ]
  },
  {
   "cell_type": "code",
   "execution_count": 1,
   "metadata": {},
   "outputs": [],
   "source": [
    "#%%writefile Node.py\n",
    "class Node: \n",
    "    def __init__(self,key): \n",
    "        self.left = None\n",
    "        self.right = None\n",
    "        self.val = key "
   ]
  },
  {
   "cell_type": "code",
   "execution_count": 2,
   "metadata": {},
   "outputs": [],
   "source": [
    "# A utility function to insert a new node with the given key \n",
    "def insert(root,node): \n",
    "    if root is None: \n",
    "        root = node \n",
    "    else: \n",
    "        if root.val < node.val: \n",
    "            if root.right is None: \n",
    "                root.right = node \n",
    "            else: \n",
    "                insert(root.right, node) \n",
    "        else: \n",
    "            if root.left is None: \n",
    "                root.left = node \n",
    "            else: \n",
    "                insert(root.left, node) "
   ]
  },
  {
   "cell_type": "markdown",
   "metadata": {},
   "source": [
    "#### Successor\n",
    "If right subtree of node is not NULL, then succ lies in right subtree. Do following.\n",
    "Go to right subtree and return the node with minimum key value in right subtree."
   ]
  },
  {
   "cell_type": "code",
   "execution_count": 3,
   "metadata": {},
   "outputs": [],
   "source": [
    "def successor(root, n):     \n",
    "    # Step 1 of the above algorithm \n",
    "    if n.right is not None: \n",
    "        return minValue(n.right) "
   ]
  },
  {
   "cell_type": "markdown",
   "metadata": {},
   "source": [
    "#### Minimum & Maximum\n",
    "\n",
    "Just traverse the node from root to left recursively until left is NULL. The node whose left is NULL is the node with **minimum value**."
   ]
  },
  {
   "cell_type": "code",
   "execution_count": 4,
   "metadata": {},
   "outputs": [],
   "source": [
    "# Function to find the node with maximum value  \n",
    "# i.e. rightmost leaf node  \n",
    "def maxValue(root): \n",
    "    current = root \n",
    "      \n",
    "    #loop down to find the rightmost leaf \n",
    "    while(current.right): \n",
    "        current = current.right \n",
    "    return current.val \n",
    "\n",
    "def _maxValue(node): \n",
    "    if node.right == None: \n",
    "        return node.val \n",
    "    return _maxValue(node.right) \n",
    "\n",
    "# Function to find the node with maximum value  \n",
    "# i.e. rightmost leaf node  \n",
    "def minValue(root): \n",
    "    current = root \n",
    "      \n",
    "    #loop down to find the rightmost leaf \n",
    "    while(current.left): \n",
    "        current = current.left\n",
    "    return current.val \n",
    "        \n",
    "def _minValue(node): \n",
    "    if node.left == None: \n",
    "        return node.val \n",
    "    return _minValue(node.left) \n",
    "\n",
    "def maxValue(root): \n",
    "    current = root \n",
    "    #loop down to find the rightmost leaf \n",
    "    while(current.right): \n",
    "        current = current.right \n",
    "    return current.val   "
   ]
  },
  {
   "cell_type": "code",
   "execution_count": 5,
   "metadata": {},
   "outputs": [],
   "source": [
    "# Function to return the maximum \n",
    "# levels in the given tree \n",
    "def maxLevel(root): \n",
    "  \n",
    "    if (root == None): \n",
    "        return 0\n",
    "    return (1 + max(maxLevel(root.left), \n",
    "                    maxLevel(root.right))) "
   ]
  },
  {
   "cell_type": "code",
   "execution_count": 6,
   "metadata": {},
   "outputs": [],
   "source": [
    "# A utility function to do inorder tree traversal \n",
    "def inorder(root): \n",
    "    if root: \n",
    "        inorder(root.left) \n",
    "        print(root.val) \n",
    "        inorder(root.right) "
   ]
  },
  {
   "cell_type": "markdown",
   "metadata": {},
   "source": [
    "#### Search on a BST is performed in O(log(n)) time on average"
   ]
  },
  {
   "cell_type": "code",
   "execution_count": 7,
   "metadata": {},
   "outputs": [],
   "source": [
    " def find(root, d):\n",
    "    if root.val == d:\n",
    "        return True\n",
    "    elif root.val > d and root.left: #  d(40) 보다 tree key(50) 값이 크면, 왼쪽에서 찾아봄(left 로 이동함)\n",
    "        return find(root.left, d)\n",
    "    elif root.val < d and root.right: #  d(40) 보다 tree key(30) 값이 작으면,  오른쪽에서 찾아봄(right 로 이동함)\n",
    "        return find(root.right, d)\n",
    "    return False"
   ]
  },
  {
   "cell_type": "code",
   "execution_count": 8,
   "metadata": {},
   "outputs": [
    {
     "name": "stdout",
     "output_type": "stream",
     "text": [
      "inorder traversal\n",
      "20\n",
      "30\n",
      "40\n",
      "50\n",
      "60\n",
      "70\n",
      "80\n",
      "max value = 80\n",
      "(recursive) max value = 80\n",
      "min value = 20\n",
      "(recursive) min value = 20\n",
      "max level value = 3\n",
      "successor of root = 60\n",
      "find of 40 in tree = True\n",
      "find of 35 in tree = False\n"
     ]
    }
   ],
   "source": [
    "r = Node(50) \n",
    "insert(r,Node(30)) \n",
    "insert(r,Node(20)) \n",
    "insert(r,Node(40)) \n",
    "insert(r,Node(70)) \n",
    "insert(r,Node(60)) \n",
    "insert(r,Node(80)) \n",
    "  \n",
    "# Print inoder traversal of the BST \n",
    "print(\"inorder traversal\")\n",
    "inorder(r) \n",
    "\n",
    "print (\"max value = {}\".format(maxValue(r)))\n",
    "print (\"(recursive) max value = {}\".format(_maxValue(r)))\n",
    "print (\"min value = {}\".format(minValue(r)))\n",
    "print (\"(recursive) min value = {}\".format(_minValue(r)))\n",
    "\n",
    "print (\"max level value = {}\".format(maxLevel(r)))\n",
    "\n",
    "temp = r  \n",
    "succ = successor( r, temp) \n",
    "print (\"successor of root = {}\".format(succ))\n",
    "print (\"find of {} in tree = {}\".format(40, find(r,40)))\n",
    "print (\"find of {} in tree = {}\".format(35, find(r,35)))\n",
    "\n",
    "\n"
   ]
  },
  {
   "cell_type": "code",
   "execution_count": null,
   "metadata": {},
   "outputs": [],
   "source": []
  },
  {
   "cell_type": "code",
   "execution_count": null,
   "metadata": {},
   "outputs": [],
   "source": []
  }
 ],
 "metadata": {
  "kernelspec": {
   "display_name": "Python 3",
   "language": "python",
   "name": "python3"
  },
  "language_info": {
   "codemirror_mode": {
    "name": "ipython",
    "version": 3
   },
   "file_extension": ".py",
   "mimetype": "text/x-python",
   "name": "python",
   "nbconvert_exporter": "python",
   "pygments_lexer": "ipython3",
   "version": "3.7.4"
  }
 },
 "nbformat": 4,
 "nbformat_minor": 2
}
