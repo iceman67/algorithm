{
  "nbformat": 4,
  "nbformat_minor": 0,
  "metadata": {
    "colab": {
      "name": "arrayMax.ipynb",
      "private_outputs": true,
      "provenance": [],
      "authorship_tag": "ABX9TyMYyJ9WuAWlpo8r6AIcn1m7",
      "include_colab_link": true
    },
    "kernelspec": {
      "name": "python3",
      "display_name": "Python 3"
    },
    "language_info": {
      "name": "python"
    }
  },
  "cells": [
    {
      "cell_type": "markdown",
      "metadata": {
        "id": "view-in-github",
        "colab_type": "text"
      },
      "source": [
        "<a href=\"https://colab.research.google.com/github/iceman67/algorithm/blob/master/arrayMax.ipynb\" target=\"_parent\"><img src=\"https://colab.research.google.com/assets/colab-badge.svg\" alt=\"Open In Colab\"/></a>"
      ]
    },
    {
      "cell_type": "code",
      "execution_count": null,
      "metadata": {
        "id": "IEsYWe2SoQvz"
      },
      "outputs": [],
      "source": [
        "def arrayMax(A,n):\n",
        "    current_max = A[0]\n",
        "    for i in range(n):\n",
        "        if A[i] > current_max:\n",
        "            current_max = A[i]\n",
        "    return current_max"
      ]
    },
    {
      "cell_type": "code",
      "source": [
        "A = [1, 2, 3, 4, 5, 6, 7,8, 9, 10]\n",
        "\n",
        "result = arrayMax(A, len(A))\n",
        "print (f'Max value is {result}')"
      ],
      "metadata": {
        "id": "rXUBy356omMX"
      },
      "execution_count": null,
      "outputs": []
    },
    {
      "cell_type": "code",
      "source": [
        "# generate random integer values\n",
        "from random import seed\n",
        "from random import randint\n",
        "# seed random number generator\n",
        "\n",
        "seed(1)\n",
        "# generate random numbers between 0-1\n",
        "A =[]\n",
        "for _ in range(10):\n",
        "    value = randint(0, 99999)\n",
        "    A.append(value)\n",
        "    print(value)\n",
        " \n",
        "result = arrayMax(A, len(A))\n",
        "print (f'Max value is {result}')"
      ],
      "metadata": {
        "id": "J4yBND4oo94-"
      },
      "execution_count": null,
      "outputs": []
    },
    {
      "cell_type": "code",
      "source": [
        "%%timeit\n",
        "result = arrayMax(A, len(A))"
      ],
      "metadata": {
        "id": "0FFhHSOEqTg0"
      },
      "execution_count": null,
      "outputs": []
    }
  ]
}