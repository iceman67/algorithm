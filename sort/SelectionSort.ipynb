{
 "cells": [
  {
   "cell_type": "code",
   "execution_count": 73,
   "metadata": {},
   "outputs": [],
   "source": [
    "# 배열 array 의 1번쨰 까지 원소중 가장 큰 값을 갖는 원소의 위치(max_idx)\n",
    "def largest(array, i):\n",
    "    max_idx  = 0 # 첫번쨰 원소가 가장 끝값으로 가정함 \n",
    "    for j in range(1, i+1): # 1부터 마지막 원소까지 \n",
    "            if (array[max_idx] < array[j]):\n",
    "                max_idx = j\n",
    "    return max_idx"
   ]
  },
  {
   "cell_type": "code",
   "execution_count": 74,
   "metadata": {},
   "outputs": [],
   "source": [
    "def selectionsort(array=[7, 6, 5, 4, 3, 2, 1]):\n",
    "    n = len(array) -1\n",
    "    # i 는 배열의 마지막 위치\n",
    "    for i in range(n,0, -1):  # 6 to 1(마지막 바로전 자료)     \n",
    "        max = largest(array, i)\n",
    "        # 교환\n",
    "        array[i], array[max] = array[max], array[i]\n",
    "        # 1 6 5 4 3 2  | 7 \n",
    "        # 1 2 5 4 3 | 6  7\n",
    "        # 1 2 5 3 | 4 6  7\n",
    "    return array\n"
   ]
  },
  {
   "cell_type": "code",
   "execution_count": 75,
   "metadata": {},
   "outputs": [
    {
     "name": "stdout",
     "output_type": "stream",
     "text": [
      "Sorted array is:\n",
      "1\n",
      "2\n",
      "3\n",
      "4\n",
      "5\n",
      "6\n",
      "7\n"
     ]
    }
   ],
   "source": [
    "# Driver code to test above \n",
    "arr = [7, 6, 5, 4, 3, 2, 1] \n",
    "\n",
    "selectionsort(arr) \n",
    "\n",
    "print (\"Sorted array is:\") \n",
    "for i in range(len(arr)): \n",
    "    print (\"%d\" %arr[i]), "
   ]
  },
  {
   "cell_type": "code",
   "execution_count": null,
   "metadata": {},
   "outputs": [],
   "source": []
  }
 ],
 "metadata": {
  "kernelspec": {
   "display_name": "Python 3",
   "language": "python",
   "name": "python3"
  },
  "language_info": {
   "codemirror_mode": {
    "name": "ipython",
    "version": 3
   },
   "file_extension": ".py",
   "mimetype": "text/x-python",
   "name": "python",
   "nbconvert_exporter": "python",
   "pygments_lexer": "ipython3",
   "version": "3.7.4"
  }
 },
 "nbformat": 4,
 "nbformat_minor": 2
}
