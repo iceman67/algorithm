{
  "nbformat": 4,
  "nbformat_minor": 0,
  "metadata": {
    "colab": {
      "private_outputs": true,
      "provenance": [],
      "authorship_tag": "ABX9TyPcvkw6XjRjYC6YbXhwhjXD",
      "include_colab_link": true
    },
    "kernelspec": {
      "name": "python3",
      "display_name": "Python 3"
    },
    "language_info": {
      "name": "python"
    }
  },
  "cells": [
    {
      "cell_type": "markdown",
      "metadata": {
        "id": "view-in-github",
        "colab_type": "text"
      },
      "source": [
        "<a href=\"https://colab.research.google.com/github/iceman67/algorithm/blob/master/bubble_sort.ipynb\" target=\"_parent\"><img src=\"https://colab.research.google.com/assets/colab-badge.svg\" alt=\"Open In Colab\"/></a>"
      ]
    },
    {
      "cell_type": "markdown",
      "source": [
        "* 두개의 인접원소를 비교하여 순서를 올바르지 않은 경우 교환을 반복함\n",
        "* 알고리즘을 프로그램으로 작성한 후 테스트 예시\n",
        "```\n",
        "bubble_sort([0, 5, 3, 2, 2])\n",
        "    [0, 2, 2, 3, 5]\n",
        "bubble_sort([])\n",
        "    []\n",
        "bubble_sort([-2, -5, -45])\n",
        "    [-45, -5, -2]\n",
        "\"\"\"\n",
        "---\n",
        "교재 알고리즘 반영\n",
        "* 자료는 collection 에서 유지하며, 자료의 크기는 lengh에 저장됨"
      ],
      "metadata": {
        "id": "63zfIt-GgREH"
      }
    },
    {
      "cell_type": "code",
      "source": [
        "def bubble_sort(collection):\n",
        "    length = len(collection)\n",
        "    count = 0\n",
        "    for iter_num in range(length-1,0,-1):\n",
        "        for idx in range(iter_num):\n",
        "            if collection[idx] > collection[idx+1]:\n",
        "               collection[idx], collection[idx+1] = collection[idx+1], collection[idx]\n",
        "               count = count + 1\n",
        "\n",
        "    print(f'swap count = {count}')\n",
        "    return collection\n",
        "\n",
        "\n",
        "if __name__ == '__main__':\n",
        "    #===========================================================================\n",
        "    # try:\n",
        "    #     raw_input          # Python 2\n",
        "    # except NameError:\n",
        "    #     raw_input = input  # Python 3\n",
        "    #===========================================================================\n",
        "    user_input = input('Enter numbers separated by a comma:').strip()\n",
        "    unsorted = [int(item) for item in user_input.split(',')]\n",
        "    print(*bubble_sort(unsorted), sep=',')\n",
        "\n"
      ],
      "metadata": {
        "id": "52Tqqiokf6JF"
      },
      "execution_count": null,
      "outputs": []
    },
    {
      "cell_type": "markdown",
      "source": [
        "* 위의 bubble_sort()와의 차이점을 찾아봄 \n",
        "* $swapped$ 의 활용 목적은 무엇인가  "
      ],
      "metadata": {
        "id": "0MA7GIfzhX_k"
      }
    },
    {
      "cell_type": "code",
      "execution_count": null,
      "metadata": {
        "id": "uwNDnvNgZLJK"
      },
      "outputs": [],
      "source": [
        "def bubble_sort(collection):\n",
        "    \"\"\"Pure implementation of bubble sort algorithm in Python\n",
        "\n",
        "    :param collection: some mutable ordered collection with heterogeneous\n",
        "    comparable items inside\n",
        "    :return: the same collection ordered by ascending\n",
        "\n",
        "    Examples:\n",
        "    >>> bubble_sort([0, 5, 3, 2, 2])\n",
        "    [0, 2, 2, 3, 5]\n",
        "\n",
        "    >>> bubble_sort([])\n",
        "    []\n",
        "\n",
        "    >>> bubble_sort([-2, -5, -45])\n",
        "    [-45, -5, -2]\n",
        "\n",
        "    >>> bubble_sort([-23,0,6,-4,34])\n",
        "    [-23,-4,0,6,34]\n",
        "    \"\"\"\n",
        "    length = len(collection)\n",
        "    for i in range(length-1):\n",
        "        swapped = False\n",
        "        for j in range(length-1-i):\n",
        "            if collection[j] > collection[j+1]:\n",
        "                swapped = True\n",
        "                collection[j], collection[j+1] = collection[j+1], collection[j]\n",
        "        if not swapped: break  # Stop iteration if the collection is sorted.\n",
        "    return collection\n",
        "\n",
        "\n",
        "if __name__ == '__main__':\n",
        "    #===========================================================================\n",
        "    # try:\n",
        "    #     raw_input          # Python 2\n",
        "    # except NameError:\n",
        "    #     raw_input = input  # Python 3\n",
        "    #===========================================================================\n",
        "    user_input = input('Enter numbers separated by a comma:').strip()\n",
        "    unsorted = [int(item) for item in user_input.split(',')]\n",
        "    print(*bubble_sort(unsorted), sep=',')"
      ]
    }
  ]
}