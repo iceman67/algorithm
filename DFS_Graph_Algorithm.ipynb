{
  "nbformat": 4,
  "nbformat_minor": 0,
  "metadata": {
    "colab": {
      "name": "DFS_Graph-Algorithm.ipynb",
      "provenance": [],
      "collapsed_sections": [],
      "authorship_tag": "ABX9TyNELgAMtmW1VHbYXm8XLSjY",
      "include_colab_link": true
    },
    "kernelspec": {
      "name": "python3",
      "display_name": "Python 3"
    }
  },
  "cells": [
    {
      "cell_type": "markdown",
      "metadata": {
        "id": "view-in-github",
        "colab_type": "text"
      },
      "source": [
        "<a href=\"https://colab.research.google.com/github/iceman67/algorithm/blob/master/DFS_Graph_Algorithm.ipynb\" target=\"_parent\"><img src=\"https://colab.research.google.com/assets/colab-badge.svg\" alt=\"Open In Colab\"/></a>"
      ]
    },
    {
      "cell_type": "markdown",
      "metadata": {
        "id": "fJERKBDwjOH1"
      },
      "source": [
        "**그래프 탐색** 하나의 정점으로부터 시작하여 차례대로 모든 정점들을 한 번씩 방문하는 것\n",
        "\n",
        "**깊이 우선 탐색(Depth First Search)** 루트 노드(혹은 다른 임의의 노드)에서 시작해서 다음 분기(branch)로 넘어가기 전에 해당 분기를 완벽하게 탐색하는 방법 \n",
        "\n",
        "**깊이 우선 탐색(DFS)의 특징**\n",
        "\n",
        "* 자기 자신을 호출하는 순환 알고리즘의 형태 를 가지고 있음\n",
        "* 그래프 탐색의 경우 어떤 노드를 방문했었는지 여부를 반드시 검사 해야 함  (이를 검사하지 않을 경우 무한루프에 빠질 위험이 있음)\n",
        "\n",
        "---\n",
        "[DFS(DepthFirstSearch)](https://github.com/OmkarPathak/Data-Structures-using-Python/blob/master/Graph/P02_DepthFirstSearch.py)\n",
        "> \n"
      ]
    },
    {
      "cell_type": "markdown",
      "metadata": {
        "id": "8QGVqygb5nz0"
      },
      "source": [
        "This class represents a **directed graph** using adjacency list representation.\n",
        "\n",
        " "
      ]
    },
    {
      "cell_type": "code",
      "metadata": {
        "id": "HlD1dlbodhRL"
      },
      "source": [
        "from collections import defaultdict\n",
        "\n",
        "class Graph:\n",
        "\t# Constructor\n",
        "\tdef __init__(self):\n",
        "\t\t# default dictionary to store graph\n",
        "\t\tself.graph = defaultdict(list)\n",
        "  \n",
        "\tdef printGraph(self):\n",
        "\t\tprint (self.graph)\n",
        "\t\tfor i in self.graph.keys():\n",
        "\t\t\tprint(i,' -> ', ' -> '.join([str(j) for j in self.graph[i]]))\t\t\t\n",
        "\n",
        "\t# function to add an edge to graph\n",
        "\tdef addEdge(self, u, v):\n",
        "\t\tself.graph[u].append(v)\n",
        "    \n",
        "\t# A function used by DFS\n",
        "\tdef DFSRec(self, v, visited):\n",
        "\t\t# Mark the current node as visited\n",
        "\t\t# and print it\n",
        "\t\tvisited.add(v)\n",
        "\t\tprint(v, end=' ')\n",
        "\n",
        "\t\t# Recur for all the vertices\n",
        "\t\t# adjacent to this vertex\n",
        "\t\tfor neighbour in self.graph[v]:\n",
        "\t\t\tif neighbour not in visited:\n",
        "\t\t\t\tprint (f\"\\n** {v}\\'s neighour {neighbour} is visisted all\")\n",
        "\t\t\t\tself.DFSRec(neighbour, visited)\n",
        "\t\t\n",
        "\n",
        "\t# The function to do DFS traversal. It uses\n",
        "\t# recursive DFSRec()\n",
        "\tdef DFS(self, v):\n",
        "\t\t# Create a set to store visited vertices\n",
        "\t\tvisited = set()\n",
        "\n",
        "\t\t# Call the recursive helper function\n",
        "\t\t# to print DFS traversal\n",
        "\t\tself.DFSRec(v, visited)"
      ],
      "execution_count": 25,
      "outputs": []
    },
    {
      "cell_type": "code",
      "metadata": {
        "colab": {
          "base_uri": "https://localhost:8080/"
        },
        "id": "3rPcjnh5d011",
        "outputId": "375edbc6-3ac6-410b-9c3d-a3bcb3b1262e"
      },
      "source": [
        "# Driver code\n",
        "if __name__ == '__main__':\n",
        "   # Create a graph given\n",
        "   # in the above diagram\n",
        "   g = Graph() \n",
        "   g.addEdge(0, 1)\n",
        "   g.addEdge(0, 2)\n",
        "   g.addEdge(1, 2)\n",
        "   g.addEdge(2, 0)\n",
        "   g.addEdge(2, 3)\n",
        "   g.addEdge(3, 3)\n",
        "   \n",
        "   g.printGraph()\n",
        "   print(\"Following is DFS from (starting from vertex 2)\")\n",
        "   g.DFS(2)\n",
        "\n",
        "# This code is contributed by Neelam Yadav"
      ],
      "execution_count": 26,
      "outputs": [
        {
          "output_type": "stream",
          "text": [
            "defaultdict(<class 'list'>, {0: [1, 2], 1: [2], 2: [0, 3], 3: [3]})\n",
            "0  ->  1 -> 2\n",
            "1  ->  2\n",
            "2  ->  0 -> 3\n",
            "3  ->  3\n",
            "Following is DFS from (starting from vertex 2)\n",
            "2 \n",
            "** 2's neighour 0 is visisted all\n",
            "0 \n",
            "** 0's neighour 1 is visisted all\n",
            "1 \n",
            "** 2's neighour 3 is visisted all\n",
            "3 "
          ],
          "name": "stdout"
        }
      ]
    }
  ]
}