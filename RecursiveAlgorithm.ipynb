{
  "nbformat": 4,
  "nbformat_minor": 0,
  "metadata": {
    "colab": {
      "name": "RecursiveAlgorithm.ipynb",
      "provenance": [],
      "authorship_tag": "ABX9TyODKDUxhDVI76zgpnB0crdb",
      "include_colab_link": true
    },
    "kernelspec": {
      "name": "python3",
      "display_name": "Python 3"
    }
  },
  "cells": [
    {
      "cell_type": "markdown",
      "metadata": {
        "id": "view-in-github",
        "colab_type": "text"
      },
      "source": [
        "<a href=\"https://colab.research.google.com/github/iceman67/algorithm/blob/master/RecursiveAlgorithm.ipynb\" target=\"_parent\"><img src=\"https://colab.research.google.com/assets/colab-badge.svg\" alt=\"Open In Colab\"/></a>"
      ]
    },
    {
      "cell_type": "markdown",
      "metadata": {
        "id": "zxepExjQdf-Y"
      },
      "source": [
        "재귀알고리즘의 경우 재귀호출은 다음 두가지 조건을 충족해야함 \n",
        "1. 재귀 케이스(recursive case), 원래의 문제 보다 작아진 부문제(sub problems)을 대상으로 이루어져야 함 \n",
        "2. 베이스 케이스(base case), 부문제가 충분히 작아지면 알고리즘은 재귀를 사용하지 않고 직접해야함 \n",
        "\n",
        "\n",
        "---\n",
        "\n",
        "* (처리과정) 재귀호출을 계속하는 호출 단계를 거쳐 베이스 케이스에 도달하고, 이후에는 재귀의 반대 순서로 반환 단계를 거쳐 완료됨\n",
        "* $n=4$ 로 가정하면  초기 호출이후 $n=3, 2, 1$에 대해 3회의 재귀호출이 발생하고 3회의 반환이 발생함  \n"
      ]
    },
    {
      "cell_type": "code",
      "metadata": {
        "id": "QZln6U_qdXib"
      },
      "source": [
        "def Sum(n):\n",
        "  if n == 1:\n",
        "    return 1\n",
        "  else:\n",
        "    return n + Sum(n-1)"
      ],
      "execution_count": null,
      "outputs": []
    },
    {
      "cell_type": "code",
      "metadata": {
        "colab": {
          "base_uri": "https://localhost:8080/"
        },
        "id": "z5E1J4AQdyC7",
        "outputId": "c12466f8-e14f-4614-8115-a578840435b9"
      },
      "source": [
        "n = 10\n",
        "print (\"sum({}) = {}\".format(n, Sum(n)))"
      ],
      "execution_count": null,
      "outputs": [
        {
          "output_type": "stream",
          "text": [
            "sum(10) = 55\n"
          ],
          "name": "stdout"
        }
      ]
    },
    {
      "cell_type": "markdown",
      "metadata": {
        "id": "p-M8wdI-fJi5"
      },
      "source": [
        "* 알고리즘 $sum$ 은 $n-1$에 관한 문제에 대해 호출하고 이 과정에서 문제는 작아짐 \n",
        "* $n = 1$ 인지 검사하여 이것이 참이라면 베이스 케이스에 도달하게됨  \n",
        "\n",
        "\n",
        "---\n",
        "* 호출과 반환을 위한 데이터처리 시간을 소비하므로 시공간 측면에서 수행 성능이 저하됨\n",
        "* 비재귀에 비해 가독성이 높아 이해하기 쉬움\n",
        "* 재귀알고리즘은 베이스케이스를 항상 가져야 하며, 이는 재귀없이 해결될 수 있어야 함 \n",
        "* 재귀의 진행방향은 항상 베이스케이스를 향하는 방향으로 진행해야 함 \n",
        "\n",
        "\n",
        "---\n",
        "* 재귀적 곱하기 $product$\n",
        "> $a$와 $b$의 곱을 구하기 위해, $a$와 $b - 1$의 곱에 $a$를 더한다\n",
        "\n"
      ]
    },
    {
      "cell_type": "code",
      "metadata": {
        "id": "uQ6ufoMzf7NB"
      },
      "source": [
        "def product (a, b):\n",
        "  if (b == 1):\n",
        "    return a\n",
        "  else:\n",
        "    return a + product (a, b - 1)"
      ],
      "execution_count": null,
      "outputs": []
    },
    {
      "cell_type": "code",
      "metadata": {
        "colab": {
          "base_uri": "https://localhost:8080/"
        },
        "id": "_K9RriUDik7H",
        "outputId": "80751db4-1edb-4244-8d44-9d12443746f0"
      },
      "source": [
        "a = 5\n",
        "b = 10\n",
        "print (\"product({}, {}) = {}\".format(a, b, product(a, b)))"
      ],
      "execution_count": null,
      "outputs": [
        {
          "output_type": "stream",
          "text": [
            "product(5, 10) = 50\n"
          ],
          "name": "stdout"
        }
      ]
    },
    {
      "cell_type": "markdown",
      "metadata": {
        "id": "KwKuGxvZkp87"
      },
      "source": [
        "#### Find a maximum value from a given list\n",
        "1. If the list contains only a single element, that element is the max. Return it immediately.\n",
        "2. Otherwise, the list contains multiple elements. Either the first element in the list is the maximum, or it is not.\n",
        "3. The maximum of the first element is simply the first element in the list.\n",
        "4. Recursively call Max on the rest (all but first element) to find the maximum of those elements.\n",
        "5. Compare the results from step 3 and 4. The result is the number that is greater. Return it."
      ]
    },
    {
      "cell_type": "code",
      "metadata": {
        "colab": {
          "base_uri": "https://localhost:8080/"
        },
        "id": "2b11mzlijdWb",
        "outputId": "6c9e5771-b1ca-49b8-f08d-75b7eda57937"
      },
      "source": [
        "def maximum(L):\n",
        "    if len(L) == 1:\n",
        "        return L[0]\n",
        "    else:\n",
        "        print (L)\n",
        "        return max(L[0],maximum(L[1:]))\n",
        "\n",
        "L= [2,48,6,23,1,46]\n",
        "print (maximum(L))"
      ],
      "execution_count": null,
      "outputs": [
        {
          "output_type": "stream",
          "text": [
            "[2, 48, 6, 23, 1, 46]\n",
            "[48, 6, 23, 1, 46]\n",
            "[6, 23, 1, 46]\n",
            "[23, 1, 46]\n",
            "[1, 46]\n",
            "48\n"
          ],
          "name": "stdout"
        }
      ]
    },
    {
      "cell_type": "markdown",
      "metadata": {
        "id": "lrx4nwk4ui0n"
      },
      "source": [
        "### 시간 복잡도(time complexity)\n",
        "\n",
        "**$k$ 차 이동평균(moving average)** 주어진 리스트의 $i$번째 $k$차 이동평균값은 $x$의 $i$번째에 이르기까지 마지막 $k$개 원소들의 평균\n",
        "> 중간합을 $cumsum$에 보관하여 계산에 활용 \n",
        "> $O(n)$ 시간에 실행 "
      ]
    },
    {
      "cell_type": "code",
      "metadata": {
        "colab": {
          "base_uri": "https://localhost:8080/"
        },
        "id": "VKAIwAUguNha",
        "outputId": "7251b710-1117-401a-b75e-94b4cb79e6d2"
      },
      "source": [
        "numbers = [1, 2, 3, 4, 5, 6, 7]\n",
        "k = 5\n",
        "cumsum, moving_aves = [0], []\n",
        "\n",
        "for i, x in enumerate(numbers, 1):\n",
        "    cumsum.append(cumsum[i-1] + x)\n",
        "    if i>=k:\n",
        "        moving_ave = (cumsum[i] - cumsum[i-k])/k\n",
        "        #can do stuff with moving_ave here\n",
        "        moving_aves.append(moving_ave)\n",
        "\n",
        "print (moving_aves)"
      ],
      "execution_count": null,
      "outputs": [
        {
          "output_type": "stream",
          "text": [
            "[3.0, 4.0, 5.0]\n"
          ],
          "name": "stdout"
        }
      ]
    },
    {
      "cell_type": "code",
      "metadata": {
        "colab": {
          "base_uri": "https://localhost:8080/"
        },
        "id": "cjaID3pPvW0F",
        "outputId": "fab3cbcd-5d7e-480f-d0a2-b278796412b8"
      },
      "source": [
        "numbers = [1, 2, 3, 4, 5, 6, 7]\n",
        "window_size = 5\n",
        "\n",
        "i = 0\n",
        "moving_averages = []\n",
        "while i < len(numbers) - window_size + 1:\n",
        "    this_window = numbers[i : i + window_size]\n",
        "    # this_window 는 중간합을 유지하기 위해 사용됨 \n",
        "    window_average = sum(this_window) / window_size\n",
        "    moving_averages.append(window_average)\n",
        "    i += 1\n",
        "\n",
        "print(moving_averages)\n"
      ],
      "execution_count": null,
      "outputs": [
        {
          "output_type": "stream",
          "text": [
            "[3.0, 4.0, 5.0]\n"
          ],
          "name": "stdout"
        }
      ]
    },
    {
      "cell_type": "markdown",
      "metadata": {
        "id": "VKS0I9Qu6X0K"
      },
      "source": [
        "* https://nestedsoftware.com/2018/03/20/calculating-a-moving-average-on-streaming-data-5a7k.22879.html\n",
        "* https://kyrcha.info/2019/04/05/calculating-the-running-average-and-variance-of-streaming-data-using-redis"
      ]
    },
    {
      "cell_type": "code",
      "metadata": {
        "id": "itkeIyUS519Y"
      },
      "source": [
        ""
      ],
      "execution_count": null,
      "outputs": []
    }
  ]
}