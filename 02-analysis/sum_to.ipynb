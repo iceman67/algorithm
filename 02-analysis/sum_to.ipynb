{
 "cells": [
  {
   "cell_type": "code",
   "execution_count": 1,
   "metadata": {},
   "outputs": [],
   "source": [
    "def sum_to(x):\n",
    "    sum = 0\n",
    "    for i in range(1, x+1):\n",
    "        sum = sum + i\n",
    "    return sum"
   ]
  },
  {
   "cell_type": "code",
   "execution_count": 12,
   "metadata": {},
   "outputs": [
    {
     "name": "stdout",
     "output_type": "stream",
     "text": [
      "1에서 합을 구하고자 하는 숫자를 입력하세요. \n",
      "10\n",
      "10 까지 합\n",
      "55\n"
     ]
    }
   ],
   "source": [
    "print(\"1에서 합을 구하고자 하는 숫자를 입력하세요. \")\n",
    "x = input()\n",
    "x = int(x)\n",
    "print(\"{} 까지 합\".format(x))\n",
    "print(sum_to(x))"
   ]
  },
  {
   "cell_type": "code",
   "execution_count": null,
   "metadata": {},
   "outputs": [],
   "source": []
  }
 ],
 "metadata": {
  "kernelspec": {
   "display_name": "Python 3",
   "language": "python",
   "name": "python3"
  },
  "language_info": {
   "codemirror_mode": {
    "name": "ipython",
    "version": 3
   },
   "file_extension": ".py",
   "mimetype": "text/x-python",
   "name": "python",
   "nbconvert_exporter": "python",
   "pygments_lexer": "ipython3",
   "version": "3.7.4"
  }
 },
 "nbformat": 4,
 "nbformat_minor": 2
}
